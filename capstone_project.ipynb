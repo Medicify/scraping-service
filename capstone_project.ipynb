{
  "nbformat": 4,
  "nbformat_minor": 0,
  "metadata": {
    "colab": {
      "provenance": []
    },
    "kernelspec": {
      "name": "python3",
      "display_name": "Python 3"
    },
    "language_info": {
      "name": "python"
    }
  },
  "cells": [
    {
      "cell_type": "code",
      "execution_count": null,
      "metadata": {
        "id": "ClIcim1zHYqH"
      },
      "outputs": [],
      "source": [
        "import os \n",
        "from google.colab import files \n",
        "import io \n",
        "from google.colab import drive\n",
        "import pandas as pd\n",
        "\n",
        "def load_data():\n",
        "    file = files.upload()\n",
        "    filename = file.keys()\n",
        "    for i in (filename):\n",
        "      global dataframeOriginal\n",
        "      dataframeOriginal = pd.read_json(io.BytesIO(file[i]))\n",
        "    return dataframeOriginal.head()\n",
        " \n",
        "load_data()"
      ]
    }
  ]
}